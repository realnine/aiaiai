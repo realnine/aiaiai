{
  "nbformat": 4,
  "nbformat_minor": 0,
  "metadata": {
    "colab": {
      "name": "Untitled",
      "provenance": [],
      "authorship_tag": "ABX9TyP6ncD4yQSqq4TbAo0q4s5G",
      "include_colab_link": true
    },
    "kernelspec": {
      "name": "python3",
      "display_name": "Python 3"
    }
  },
  "cells": [
    {
      "cell_type": "markdown",
      "metadata": {
        "id": "view-in-github",
        "colab_type": "text"
      },
      "source": [
        "<a href=\"https://colab.research.google.com/github/realnine/aiaiai/blob/master/Untitled.ipynb\" target=\"_parent\"><img src=\"https://colab.research.google.com/assets/colab-badge.svg\" alt=\"Open In Colab\"/></a>"
      ]
    },
    {
      "cell_type": "markdown",
      "metadata": {
        "id": "UX62mHW0J1X2",
        "colab_type": "text"
      },
      "source": [
        ""
      ]
    },
    {
      "cell_type": "markdown",
      "metadata": {
        "id": "pjj94TQjJ769",
        "colab_type": "text"
      },
      "source": [
        "# 샾1개\n",
        "## 샾2개\n",
        "### 샾3개\n",
        "\n",
        "\n",
        "> this\n",
        ">> this2\n",
        ">>> this3\n",
        "\n",
        "## 코드블럭을 만드는 방법 2가지 \n",
        "\n",
        "    code\n",
        "\n",
        "```\n",
        "code block\n",
        "```\n",
        "\n",
        "행을 1칸 띄우지 않고 줄바꿈을 위해선   \n",
        "마지막에 3칸이상 띄어쓰기   \n",
        "이렇게\n",
        "\n",
        "\n",
        "## 강조\n",
        "*single asterisks*   \n",
        "**double asterisks**   \n",
        "~~cancelline~~   \n",
        "\n",
        "\n",
        "\n"
      ]
    },
    {
      "cell_type": "markdown",
      "metadata": {
        "id": "TnVUyxUkP6L6",
        "colab_type": "text"
      },
      "source": [
        "# 새 섹션"
      ]
    },
    {
      "cell_type": "code",
      "metadata": {
        "id": "ck4KiP7uKPtK",
        "colab_type": "code",
        "colab": {}
      },
      "source": [
        ""
      ],
      "execution_count": 0,
      "outputs": []
    }
  ]
}